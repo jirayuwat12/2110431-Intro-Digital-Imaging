{
  "cells": [
    {
      "cell_type": "markdown",
      "metadata": {
        "id": "Kt0C2MSvo66m"
      },
      "source": [
        "# Week #6 Wavelet transform"
      ]
    },
    {
      "cell_type": "code",
      "execution_count": 1,
      "metadata": {
        "id": "OaUDN-uHo-ZD"
      },
      "outputs": [
        {
          "name": "stdout",
          "output_type": "stream",
          "text": [
            "--2023-09-13 14:17:38--  https://drive.google.com/uc?id=1Yox-XWM-PY9vFtDdzB_y_U3SK2paewwe\n",
            "Resolving drive.google.com (drive.google.com)... 172.217.25.206\n",
            "Connecting to drive.google.com (drive.google.com)|172.217.25.206|:443... connected.\n",
            "HTTP request sent, awaiting response... 303 See Other\n",
            "Location: https://doc-0s-2o-docs.googleusercontent.com/docs/securesc/ha0ro937gcuc7l7deffksulhg5h7mbp1/9l3o49cp01gg8t7b1adkiahqbfi60qhq/1694589450000/10800959494545164832/*/1Yox-XWM-PY9vFtDdzB_y_U3SK2paewwe?uuid=f1c2b5bf-1402-4865-bbc9-dbdeb68f0ebb [following]\n",
            "Warning: wildcards not supported in HTTP.\n",
            "--2023-09-13 14:17:39--  https://doc-0s-2o-docs.googleusercontent.com/docs/securesc/ha0ro937gcuc7l7deffksulhg5h7mbp1/9l3o49cp01gg8t7b1adkiahqbfi60qhq/1694589450000/10800959494545164832/*/1Yox-XWM-PY9vFtDdzB_y_U3SK2paewwe?uuid=f1c2b5bf-1402-4865-bbc9-dbdeb68f0ebb\n",
            "Resolving doc-0s-2o-docs.googleusercontent.com (doc-0s-2o-docs.googleusercontent.com)... 172.217.26.65\n",
            "Connecting to doc-0s-2o-docs.googleusercontent.com (doc-0s-2o-docs.googleusercontent.com)|172.217.26.65|:443... connected.\n",
            "HTTP request sent, awaiting response... 200 OK\n",
            "Length: 79570 (78K) [image/jpeg]\n",
            "Saving to: ‘kitty.jpg’\n",
            "\n",
            "kitty.jpg           100%[===================>]  77.71K  --.-KB/s    in 0.07s   \n",
            "\n",
            "2023-09-13 14:17:40 (1.06 MB/s) - ‘kitty.jpg’ saved [79570/79570]\n",
            "\n"
          ]
        }
      ],
      "source": [
        "!wget -nc 'https://drive.google.com/uc?id=1Yox-XWM-PY9vFtDdzB_y_U3SK2paewwe' -O kitty.jpg"
      ]
    },
    {
      "cell_type": "code",
      "execution_count": 5,
      "metadata": {
        "id": "E4FU-ZkgsQFB"
      },
      "outputs": [],
      "source": [
        "import pywt\n",
        "import cv2\n",
        "import numpy as np\n",
        "import matplotlib.pyplot as plt"
      ]
    },
    {
      "cell_type": "code",
      "execution_count": 7,
      "metadata": {
        "id": "fVkb0w2Hse1t"
      },
      "outputs": [
        {
          "name": "stdout",
          "output_type": "stream",
          "text": [
            "[[165.5 193. ]\n",
            " [127.5 174.5]]\n",
            "[[11.5 11. ]\n",
            " [ 5.5  5.5]]\n",
            "[[ -0.5 -13. ]\n",
            " [ -7.5 -11.5]]\n",
            "[[-0.5  1. ]\n",
            " [ 0.5 -2.5]]\n",
            "[[ 88.  89.  96. 108.]\n",
            " [ 77.  77.  84.  98.]\n",
            " [ 63.  70.  83.  97.]\n",
            " [ 57.  65.  80.  89.]]\n"
          ]
        },
        {
          "data": {
            "text/plain": [
              "<matplotlib.image.AxesImage at 0x1785ac340>"
            ]
          },
          "execution_count": 7,
          "metadata": {},
          "output_type": "execute_result"
        },
        {
          "data": {
            "image/png": "[encoded data removed]",
            "text/plain": [
              "<Figure size 640x480 with 1 Axes>"
            ]
          },
          "metadata": {},
          "output_type": "display_data"
        }
      ],
      "source": [
        "sub_img = np.array([[88,89,96,108],\n",
        "                    [77,77,84,98],\n",
        "                    [63,70,83,97],\n",
        "                    [57,65,80,89]])\n",
        "LL1, (LH1, HL1, HH1) = pywt.dwt2(sub_img, 'haar')\n",
        "print(LL1)\n",
        "print(LH1)\n",
        "print(HL1)\n",
        "print(HH1)\n",
        "\n",
        "recon_img = pywt.idwt2((LL1, (LH1, HL1, HH1)), 'haar')\n",
        "print(recon_img)\n",
        "\n",
        "plt.subsplot(1, )\n",
        "plt.imshow(sub_img, cmap='gray')"
      ]
    },
    {
      "cell_type": "code",
      "execution_count": 4,
      "metadata": {
        "id": "NRH4jDOAsg7_"
      },
      "outputs": [
        {
          "name": "stdout",
          "output_type": "stream",
          "text": [
            "[[5.]]\n",
            "[[-3.]]\n",
            "[[4.]]\n",
            "[[0.]]\n",
            "[[ 3. -1.]\n",
            " [ 6.  2.]]\n"
          ]
        }
      ],
      "source": [
        "sub_img = np.array([[3,-1],\n",
        "                    [6,2]])\n",
        "LL1, (LH1, HL1, HH1) = pywt.dwt2(sub_img, 'haar')\n",
        "print(LL1)\n",
        "print(LH1)\n",
        "print(HL1)\n",
        "print(HH1)\n",
        "\n",
        "recon_img = pywt.idwt2((LL1, (LH1, HL1, HH1)), 'haar')\n",
        "print(recon_img)"
      ]
    },
    {
      "cell_type": "markdown",
      "metadata": {
        "id": "NAZdvT--s3Mh"
      },
      "source": [
        "## Exercise #1 use pywavelets for image space-frequency analysis\n",
        "* apply wavelet transform into ”kitty.jpg” image\n",
        "* Investigate the size of the original image, approximation, horizontal, vertical and diagonal details.\n",
        "* Investigate the min/max values in the approximation, horizontal, vertical and diagonal details.\n",
        "* Try with different mother wavelets"
      ]
    },
    {
      "cell_type": "code",
      "execution_count": null,
      "metadata": {
        "id": "NkAQHYUAs2MX"
      },
      "outputs": [],
      "source": [
        "import pywt\n",
        "import cv2\n",
        "import matplotlib.pyplot as plt\n",
        "original = cv2.imread(\"kitty.jpg\",0)\n",
        "LL, (LH, HL, HH) = pywt.dwt2(original, 'haar')\n",
        "\n",
        "# Write a snippet code to display all\n",
        "plt.imshow(LL,cmap='gray');plt.title(\"approximation\")\n",
        "plt.show()\n",
        "\n",
        "\n",
        "\n",
        "\n",
        "\n",
        "\n",
        "\n",
        "\n"
      ]
    },
    {
      "cell_type": "markdown",
      "metadata": {
        "id": "CTILWYS5tDOi"
      },
      "source": [
        "## Exercise #2 Can you segment the Cat?\n",
        "* Apply wavelet transform into ”kitty.jpg” image\n",
        "* Again, investigate the min/max values in the approximation, horizontal, vertical and diagonal details.\n",
        "* Can you use a threshold to separate the high details from the low and segment the cat out?\n"
      ]
    },
    {
      "cell_type": "code",
      "execution_count": null,
      "metadata": {
        "id": "FXt65OngtHhh"
      },
      "outputs": [],
      "source": [
        "original = cv2.imread(\"kitty.jpg\",0)\n",
        "LL, (LH, HL, HH) = pywt.dwt2(original, 'haar')\n",
        "\n",
        "# Write a snippet code to display all\n",
        "\n",
        "\n",
        "\n",
        "\n",
        "\n",
        "\n",
        "\n"
      ]
    }
  ],
  "metadata": {
    "colab": {
      "provenance": [],
      "toc_visible": true
    },
    "kernelspec": {
      "display_name": "Python 3",
      "name": "python3"
    },
    "language_info": {
      "codemirror_mode": {
        "name": "ipython",
        "version": 3
      },
      "file_extension": ".py",
      "mimetype": "text/x-python",
      "name": "python",
      "nbconvert_exporter": "python",
      "pygments_lexer": "ipython3",
      "version": "3.9.6"
    }
  },
  "nbformat": 4,
  "nbformat_minor": 0
}
