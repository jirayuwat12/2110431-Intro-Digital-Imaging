{
  "cells": [
    {
      "cell_type": "markdown",
      "metadata": {
        "id": "44MyWIUm_2AY"
      },
      "source": [
        "# Week 8 Segmentation I"
      ]
    },
    {
      "cell_type": "code",
      "execution_count": 1,
      "metadata": {
        "id": "4k1Wx5_5Blfp"
      },
      "outputs": [
        {
          "name": "stdout",
          "output_type": "stream",
          "text": [
            "--2023-10-04 13:13:24--  https://drive.google.com/uc?id=1Ku89NM5rj6O3POXLT8vlhh6xDv5AHqXG\n",
            "Resolving drive.google.com (drive.google.com)... 142.250.199.46\n",
            "Connecting to drive.google.com (drive.google.com)|142.250.199.46|:443... connected.\n",
            "HTTP request sent, awaiting response... 303 See Other\n",
            "Location: https://doc-14-2o-docs.googleusercontent.com/docs/securesc/ha0ro937gcuc7l7deffksulhg5h7mbp1/gmjhdjv56dvp3o3d4n42ls9104uelkhj/1696399950000/10800959494545164832/*/1Ku89NM5rj6O3POXLT8vlhh6xDv5AHqXG?uuid=10dda496-75a8-47da-8e77-03524a05ed20 [following]\n",
            "Warning: wildcards not supported in HTTP.\n",
            "--2023-10-04 13:13:25--  https://doc-14-2o-docs.googleusercontent.com/docs/securesc/ha0ro937gcuc7l7deffksulhg5h7mbp1/gmjhdjv56dvp3o3d4n42ls9104uelkhj/1696399950000/10800959494545164832/*/1Ku89NM5rj6O3POXLT8vlhh6xDv5AHqXG?uuid=10dda496-75a8-47da-8e77-03524a05ed20\n",
            "Resolving doc-14-2o-docs.googleusercontent.com (doc-14-2o-docs.googleusercontent.com)... 172.217.25.193\n",
            "Connecting to doc-14-2o-docs.googleusercontent.com (doc-14-2o-docs.googleusercontent.com)|172.217.25.193|:443... connected.\n",
            "HTTP request sent, awaiting response... 200 OK\n",
            "Length: 38783 (38K) [image/png]\n",
            "Saving to: ‘cameraman.tif’\n",
            "\n",
            "cameraman.tif       100%[===================>]  37.87K  --.-KB/s    in 0.06s   \n",
            "\n",
            "2023-10-04 13:13:27 (593 KB/s) - ‘cameraman.tif’ saved [38783/38783]\n",
            "\n"
          ]
        }
      ],
      "source": [
        "!wget -nc 'https://drive.google.com/uc?id=1Ku89NM5rj6O3POXLT8vlhh6xDv5AHqXG' -O cameraman.tif\n"
      ]
    },
    {
      "cell_type": "code",
      "execution_count": null,
      "metadata": {
        "id": "nk9Tr8zaBxS6"
      },
      "outputs": [],
      "source": [
        "import numpy as np\n",
        "import cv2\n",
        "import matplotlib.pyplot as plt"
      ]
    },
    {
      "cell_type": "markdown",
      "metadata": {
        "id": "uKdZ4hBDAp9u"
      },
      "source": [
        "## Edge detection"
      ]
    },
    {
      "cell_type": "code",
      "execution_count": null,
      "metadata": {
        "id": "JwZsTplM_1Df"
      },
      "outputs": [],
      "source": [
        "img = cv2.imread('cameraman.tif',0)\n",
        "\n",
        "\n",
        "#sobel\n",
        "img_sobelx = cv2.Sobel(img,cv2.CV_8U,1,0,ksize=3)\n",
        "img_sobely = _______________________________________\n",
        "img_sobel =\n",
        "plt.imshow(img_sobel,cmap=\"gray\");plt.title(\"Laplacian\")\n",
        "plt.show()\n",
        "\n",
        "#prewitt\n",
        "kernelx = np.array([[-1,-1,-1],[0,0,0],[1,1,1]])\n",
        "kernely = _______________________________________\n",
        "img_prewittx = _______________________________________\n",
        "img_prewitty = _______________________________________\n",
        "img_prewitt =\n",
        "plt.imshow(img_prewitt,cmap=\"gray\");plt.title(\"Laplacian\")\n",
        "plt.show()\n",
        "\n",
        "#Laplacian\n",
        "Laplacian = _______________________________________\n",
        "img_Laplacian = cv2.filter2D(img, -1, Laplacian)\n",
        "plt.imshow(img_Laplacian,cmap=\"gray\");plt.title(\"Laplacian\")\n",
        "plt.show()\n",
        "\n",
        "\n",
        "#canny\n",
        "img_canny = _______________________________________\n",
        "plt.imshow(img_canny,cmap=\"gray\");plt.title(\"Laplacian\")\n",
        "plt.show()\n",
        "\n"
      ]
    }
  ],
  "metadata": {
    "colab": {
      "provenance": [],
      "toc_visible": true
    },
    "kernelspec": {
      "display_name": "Python 3",
      "name": "python3"
    },
    "language_info": {
      "codemirror_mode": {
        "name": "ipython",
        "version": 3
      },
      "file_extension": ".py",
      "mimetype": "text/x-python",
      "name": "python",
      "nbconvert_exporter": "python",
      "pygments_lexer": "ipython3",
      "version": "3.9.6"
    }
  },
  "nbformat": 4,
  "nbformat_minor": 0
}
